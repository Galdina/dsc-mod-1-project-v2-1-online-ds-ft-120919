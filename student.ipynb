{
 "cells": [
  {
   "cell_type": "markdown",
   "metadata": {},
   "source": [
    "# Final Project Submission\n",
    "\n",
    "* Student name: Maria Galdina\n",
    "* Student pace: full time\n",
    "* Scheduled project review date/time: Jan 22 at 2:00 - 2:30 pm PST\n",
    "* Instructor name: Rafael Carrasco\n",
    "* Blog post URL: https://galdina.github.io/first_project_denial_anger_bargaining_depression_acceptance"
   ]
  },
  {
   "cell_type": "markdown",
   "metadata": {},
   "source": [
    "# Importing necessary libraries, add connection to the database"
   ]
  },
  {
   "cell_type": "markdown",
   "metadata": {},
   "source": [
    "I started working with zipped cvs files. Then I converted it into database and check for duplicates, empty values or rows. All my work was shown in **Studing and clearing**"
   ]
  },
  {
   "cell_type": "code",
   "execution_count": 1,
   "metadata": {},
   "outputs": [],
   "source": [
    "# import libraries\n",
    "import sqlite3\n",
    "import pandas as pd\n",
    "import numpy as np\n",
    "\n",
    "import matplotlib.pyplot as plt\n",
    "\n",
    "import seaborn as sns"
   ]
  },
  {
   "cell_type": "code",
   "execution_count": 2,
   "metadata": {},
   "outputs": [],
   "source": [
    "#add connection to the database\n",
    "conn = sqlite3.connect(\"movies_database.sqlite\")\n",
    "cur = conn.cursor()"
   ]
  },
  {
   "cell_type": "code",
   "execution_count": 3,
   "metadata": {},
   "outputs": [
    {
     "name": "stdout",
     "output_type": "stream",
     "text": [
      "('tmdb_movies',)\n",
      "('imdb_title_crew',)\n",
      "('tn_movie_budgets',)\n",
      "('imdb_title_ratings',)\n",
      "('imdb_name_basics',)\n",
      "('imdb_title_principals',)\n",
      "('imdb_title_akas',)\n",
      "('bom_movie_gross',)\n",
      "('imdb_title_basics',)\n",
      "('rt_reviews',)\n",
      "('rt_movie_info',)\n"
     ]
    }
   ],
   "source": [
    "#check tables which we have for work\n",
    "for row in cur.execute(\"SELECT name FROM sqlite_master WHERE type='table';\"):\n",
    "    print(row)"
   ]
  },
  {
   "cell_type": "markdown",
   "metadata": {},
   "source": [
    "## Most intresting correlation between movie's matrices"
   ]
  },
  {
   "cell_type": "code",
   "execution_count": null,
   "metadata": {},
   "outputs": [],
   "source": []
  }
 ],
 "metadata": {
  "kernelspec": {
   "display_name": "Python 3",
   "language": "python",
   "name": "python3"
  },
  "language_info": {
   "codemirror_mode": {
    "name": "ipython",
    "version": 3
   },
   "file_extension": ".py",
   "mimetype": "text/x-python",
   "name": "python",
   "nbconvert_exporter": "python",
   "pygments_lexer": "ipython3",
   "version": "3.7.4"
  }
 },
 "nbformat": 4,
 "nbformat_minor": 2
}
