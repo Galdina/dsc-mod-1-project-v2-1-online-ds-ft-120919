{
 "cells": [
  {
   "cell_type": "markdown",
   "metadata": {},
   "source": [
    "Some trash which I can't work with"
   ]
  },
  {
   "cell_type": "markdown",
   "metadata": {},
   "source": [
    "Science way to create a successful movie!\n",
    "Step 1: Choose the genre\n",
    "Step 2: How much we should spend?\n",
    "Step 3: "
   ]
  },
  {
   "cell_type": "markdown",
   "metadata": {},
   "source": [
    "## Which year has the highest release of movies?\n",
    "For exploring data set we should remember that each year our industry create more and more mvie."
   ]
  },
  {
   "cell_type": "code",
   "execution_count": null,
   "metadata": {},
   "outputs": [],
   "source": [
    "# tmdb_movies table\n",
    "\n",
    "# make group for each year and count the number of movies in each year \n",
    "count_movies = movies.loc[(movies.groupby('year').count()['id'] >1)]\n",
    "print(count_movies)\n",
    "# make group of the data according to their release year and count the total number of movies in each year and pot.\n",
    "#movies.groupby('year').count()['id'].plot(xticks = np.arange(1960,2019,5))\n",
    "count_movies.plot(xticks = np.arange(1960,2019,5))\n",
    "# setup for plot\n",
    "#set the figure size and labels\n",
    "sns.set(rc={'figure.figsize':(10,5)})\n",
    "plt.title(\"Number Of Movies each Year\",fontsize = 14)\n",
    "plt.xlabel('Release year',fontsize = 13)\n",
    "plt.ylabel('Number Of Movies',fontsize = 13)\n",
    "#set the style sheet\n",
    "sns.set_style(\"whitegrid\")"
   ]
  },
  {
   "cell_type": "code",
   "execution_count": 1,
   "metadata": {},
   "outputs": [],
   "source": [
    "def factorial(number):\n",
    "    result = 1\n",
    "    while number >= 1:\n",
    "        result = result * n\n",
    "        number = number - 1\n",
    "    return result"
   ]
  },
  {
   "cell_type": "code",
   "execution_count": null,
   "metadata": {},
   "outputs": [],
   "source": [
    "pfactorial(5)"
   ]
  }
 ],
 "metadata": {
  "kernelspec": {
   "display_name": "Python 3",
   "language": "python",
   "name": "python3"
  },
  "language_info": {
   "codemirror_mode": {
    "name": "ipython",
    "version": 3
   },
   "file_extension": ".py",
   "mimetype": "text/x-python",
   "name": "python",
   "nbconvert_exporter": "python",
   "pygments_lexer": "ipython3",
   "version": "3.7.4"
  }
 },
 "nbformat": 4,
 "nbformat_minor": 2
}
